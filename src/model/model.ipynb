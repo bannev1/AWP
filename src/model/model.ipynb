{
 "cells": [
  {
   "cell_type": "markdown",
   "metadata": {},
   "source": [
    "<h3>Import Statements</h3>"
   ]
  },
  {
   "cell_type": "code",
   "execution_count": 79,
   "metadata": {},
   "outputs": [
    {
     "name": "stderr",
     "output_type": "stream",
     "text": [
      "ERROR: Could not open requirements file: [Errno 2] No such file or directory: '/Users/valentina/Documents/GitHub/AFFP/src/model/requirements.txt'\n"
     ]
    },
    {
     "data": {
      "text/plain": [
       "256"
      ]
     },
     "execution_count": 79,
     "metadata": {},
     "output_type": "execute_result"
    }
   ],
   "source": [
    "import os\n",
    "\n",
    "os.system(f\"pip install -r {os.path.abspath(os.getcwd())}/requirements.txt\")"
   ]
  },
  {
   "cell_type": "code",
   "execution_count": 80,
   "metadata": {},
   "outputs": [],
   "source": [
    "import tensorflow as tf\n",
    "import numpy as np\n",
    "from keras.models import Model\n",
    "from keras.layers import Input, Dense, Dropout\n",
    "from keras.callbacks import EarlyStopping\n",
    "from sklearn.model_selection import train_test_split\n",
    "import matplotlib\n",
    "import matplotlib.pyplot as plt\n",
    "\n",
    "from datasets import dataset"
   ]
  },
  {
   "cell_type": "markdown",
   "metadata": {},
   "source": [
    "<h3>Loading in training data</h3>"
   ]
  },
  {
   "cell_type": "code",
   "execution_count": 81,
   "metadata": {},
   "outputs": [],
   "source": [
    "temp_train = np.asarray(dataset['Temperature'])\n",
    "rh_train = np.asarray(dataset['RH'])\n",
    "wind_train = np.asarray(dataset['Ws'])\n",
    "rain_train = np.asarray(dataset['Rain'])"
   ]
  },
  {
   "cell_type": "markdown",
   "metadata": {},
   "source": [
    "### Obtaining the x_train and y_train data ###"
   ]
  },
  {
   "cell_type": "code",
   "execution_count": 82,
   "metadata": {},
   "outputs": [],
   "source": [
    "xData = np.column_stack((temp_train, rh_train, wind_train, rain_train))\n",
    "yData = np.asarray(dataset['Classes'].apply(lambda x: 1 if x == 'fire' else 0))\n",
    "\n",
    "x_train, x_test, y_train, y_test = train_test_split(xData, yData, test_size=0.25)"
   ]
  },
  {
   "cell_type": "markdown",
   "metadata": {},
   "source": [
    "### Defining model layers and creating the model ###"
   ]
  },
  {
   "cell_type": "code",
   "execution_count": 83,
   "metadata": {},
   "outputs": [],
   "source": [
    "input_shape = x_train.shape[1:]\n",
    "inputs = Input(shape=input_shape)\n",
    "x = Dense(32, activation='relu', kernel_regularizer='l1')(inputs)\n",
    "x = Dropout(0.2)(x)\n",
    "x = Dense(16, activation='relu')(x)\n",
    "outputs = Dense(1, activation='sigmoid')(x)\n",
    "model = Model(inputs=inputs, outputs=outputs)"
   ]
  },
  {
   "cell_type": "markdown",
   "metadata": {},
   "source": [
    "### Define the optimizer"
   ]
  },
  {
   "cell_type": "code",
   "execution_count": 84,
   "metadata": {},
   "outputs": [],
   "source": [
    "optimizer = tf.keras.optimizers.Adam(\n",
    "\tlearning_rate=0.001,\n",
    "\tbeta_1=0.9,\n",
    "\tbeta_2=0.999,\n",
    "\tepsilon=1e-07\n",
    ")"
   ]
  },
  {
   "attachments": {},
   "cell_type": "markdown",
   "metadata": {},
   "source": [
    "### Define the early stopping criteria"
   ]
  },
  {
   "cell_type": "code",
   "execution_count": 85,
   "metadata": {},
   "outputs": [],
   "source": [
    "early_stopping = EarlyStopping(monitor='val_loss', patience=5)"
   ]
  },
  {
   "cell_type": "markdown",
   "metadata": {},
   "source": [
    "### Compiling, training, and evaluating the model"
   ]
  },
  {
   "cell_type": "code",
   "execution_count": 86,
   "metadata": {},
   "outputs": [
    {
     "name": "stdout",
     "output_type": "stream",
     "text": [
      "Epoch 1/150\n",
      "5/5 [==============================] - 1s 51ms/step - loss: 3.8389 - accuracy: 0.4110 - val_loss: 1.8672 - val_accuracy: 0.4054\n",
      "Epoch 2/150\n",
      "5/5 [==============================] - 0s 10ms/step - loss: 2.1842 - accuracy: 0.5959 - val_loss: 0.7791 - val_accuracy: 0.8378\n",
      "Epoch 3/150\n",
      "5/5 [==============================] - 0s 10ms/step - loss: 0.9884 - accuracy: 0.8014 - val_loss: 0.6167 - val_accuracy: 0.9189\n",
      "Epoch 4/150\n",
      "5/5 [==============================] - 0s 10ms/step - loss: 0.6077 - accuracy: 0.9110 - val_loss: 0.6433 - val_accuracy: 0.9730\n",
      "Epoch 5/150\n",
      "5/5 [==============================] - 0s 10ms/step - loss: 0.6897 - accuracy: 0.9452 - val_loss: 0.6930 - val_accuracy: 0.9730\n",
      "Epoch 6/150\n",
      "5/5 [==============================] - 0s 11ms/step - loss: 0.5290 - accuracy: 0.9589 - val_loss: 0.7223 - val_accuracy: 0.9730\n",
      "Epoch 7/150\n",
      "5/5 [==============================] - 0s 12ms/step - loss: 0.4906 - accuracy: 0.9726 - val_loss: 0.7371 - val_accuracy: 0.9730\n",
      "Epoch 8/150\n",
      "5/5 [==============================] - 0s 11ms/step - loss: 0.5594 - accuracy: 0.9658 - val_loss: 0.7412 - val_accuracy: 0.9730\n",
      "Test loss: 0.2349405288696289\n",
      "Test accuracy: 1.0\n"
     ]
    }
   ],
   "source": [
    "model.compile(optimizer=optimizer, loss='binary_crossentropy', metrics=['accuracy'])\n",
    "history = model.fit(x_train, y_train, epochs=150, batch_size=32, validation_split=0.2, callbacks=[early_stopping])\n",
    "test_loss, test_acc = model.evaluate(x_test, y_test, verbose=0) # Verbose = 0 for minimal output\n",
    "print('Test loss:', test_loss)\n",
    "print('Test accuracy:', test_acc)"
   ]
  },
  {
   "attachments": {},
   "cell_type": "markdown",
   "metadata": {},
   "source": [
    "### Visualizing results"
   ]
  },
  {
   "cell_type": "code",
   "execution_count": 87,
   "metadata": {},
   "outputs": [
    {
     "data": {
      "image/png": "[encoded data removed]",
      "text/plain": [
       "<Figure size 432x288 with 1 Axes>"
      ]
     },
     "metadata": {
      "needs_background": "light"
     },
     "output_type": "display_data"
    }
   ],
   "source": [
    "plt.plot(history.history['accuracy'])\n",
    "plt.plot(history.history['val_accuracy'])\n",
    "plt.title('Model accuracy')\n",
    "plt.ylabel('Accuracy')\n",
    "plt.xlabel('Epoch')\n",
    "plt.legend(['Train', 'Validation'], loc='upper right')\n",
    "plt.show()"
   ]
  },
  {
   "cell_type": "code",
   "execution_count": 88,
   "metadata": {},
   "outputs": [
    {
     "data": {
      "image/png": "[encoded data removed]",
      "text/plain": [
       "<Figure size 432x288 with 1 Axes>"
      ]
     },
     "metadata": {
      "needs_background": "light"
     },
     "output_type": "display_data"
    }
   ],
   "source": [
    "plt.plot(history.history['loss'])\n",
    "plt.plot(history.history['val_loss'])\n",
    "plt.title('Model loss')\n",
    "plt.ylabel('Loss')\n",
    "plt.xlabel('Epoch')\n",
    "plt.legend(['Train', 'Validation'], loc='upper right')\n",
    "plt.show()"
   ]
  }
 ],
 "metadata": {
  "kernelspec": {
   "display_name": "Python 3 (ipykernel)",
   "language": "python",
   "name": "python3"
  },
  "language_info": {
   "codemirror_mode": {
    "name": "ipython",
    "version": 3
   },
   "file_extension": ".py",
   "mimetype": "text/x-python",
   "name": "python",
   "nbconvert_exporter": "python",
   "pygments_lexer": "ipython3",
   "version": "3.9.7"
  },
  "vscode": {
   "interpreter": {
    "hash": "12d734bc14f29bded633d06b5a24f7926227f2966d096d90bc127af99374c3bd"
   }
  }
 },
 "nbformat": 4,
 "nbformat_minor": 4
}
