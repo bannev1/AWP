{
 "cells": [
  {
   "cell_type": "markdown",
   "metadata": {},
   "source": [
    "<h3>Import Statements</h3>"
   ]
  },
  {
   "cell_type": "code",
   "execution_count": 16,
   "metadata": {},
   "outputs": [
    {
     "name": "stderr",
     "output_type": "stream",
     "text": [
      "ERROR: Could not open requirements file: [Errno 2] No such file or directory: '/Users/valentina/Documents/GitHub/AFFP/src/model/requirements.txt'\n"
     ]
    },
    {
     "data": {
      "text/plain": [
       "256"
      ]
     },
     "execution_count": 16,
     "metadata": {},
     "output_type": "execute_result"
    }
   ],
   "source": [
    "import os\n",
    "\n",
    "os.system(f\"pip install -r {os.path.abspath(os.getcwd())}/requirements.txt\")"
   ]
  },
  {
   "cell_type": "code",
   "execution_count": 17,
   "metadata": {},
   "outputs": [],
   "source": [
    "import tensorflow as tf\n",
    "import numpy as np\n",
    "from keras.models import Model\n",
    "from keras.layers import Input, Dense, Dropout\n",
    "from keras.callbacks import EarlyStopping\n",
    "from sklearn.model_selection import train_test_split\n",
    "import matplotlib\n",
    "import matplotlib.pyplot as plt\n",
    "\n",
    "from datasets import dataset"
   ]
  },
  {
   "cell_type": "markdown",
   "metadata": {},
   "source": [
    "<h3>Loading in training data</h3>"
   ]
  },
  {
   "cell_type": "code",
   "execution_count": 18,
   "metadata": {},
   "outputs": [],
   "source": [
    "temp_train = np.asarray(dataset['Temperature'])\n",
    "rh_train = np.asarray(dataset['RH'])\n",
    "wind_train = np.asarray(dataset['Ws'])\n",
    "rain_train = np.asarray(dataset['Rain'])"
   ]
  },
  {
   "cell_type": "markdown",
   "metadata": {},
   "source": [
    "### Obtaining the x_train and y_train data ###"
   ]
  },
  {
   "cell_type": "code",
   "execution_count": 19,
   "metadata": {},
   "outputs": [],
   "source": [
    "xData = np.column_stack((temp_train, rh_train, wind_train, rain_train))\n",
    "yData = np.asarray(dataset['Classes'].apply(lambda x: 1 if x == 'fire' else 0))\n",
    "\n",
    "x_train, x_test, y_train, y_test = train_test_split(xData, yData, test_size=0.25)"
   ]
  },
  {
   "cell_type": "markdown",
   "metadata": {},
   "source": [
    "### Defining model layers and creating the model ###"
   ]
  },
  {
   "cell_type": "code",
   "execution_count": 20,
   "metadata": {},
   "outputs": [],
   "source": [
    "input_shape = x_train.shape[1:]\n",
    "inputs = Input(shape=input_shape)\n",
    "x = Dense(32, activation='relu', kernel_regularizer='l1')(inputs)\n",
    "x = Dropout(0.2)(x)\n",
    "x = Dense(16, activation='relu')(x)\n",
    "outputs = Dense(1, activation='sigmoid')(x)\n",
    "model = Model(inputs=inputs, outputs=outputs)"
   ]
  },
  {
   "cell_type": "markdown",
   "metadata": {},
   "source": [
    "### Define the optimizer"
   ]
  },
  {
   "cell_type": "code",
   "execution_count": 21,
   "metadata": {},
   "outputs": [],
   "source": [
    "optimizer = tf.keras.optimizers.Adam(\n",
    "\tlearning_rate=0.001,\n",
    "\tbeta_1=0.9,\n",
    "\tbeta_2=0.999,\n",
    "\tepsilon=1e-07\n",
    ")"
   ]
  },
  {
   "attachments": {},
   "cell_type": "markdown",
   "metadata": {},
   "source": [
    "### Define the early stopping criteria"
   ]
  },
  {
   "cell_type": "code",
   "execution_count": 22,
   "metadata": {},
   "outputs": [],
   "source": [
    "early_stopping = EarlyStopping(monitor='val_loss', patience=5)"
   ]
  },
  {
   "cell_type": "markdown",
   "metadata": {},
   "source": [
    "### Compiling, training, and evaluating the model"
   ]
  },
  {
   "cell_type": "code",
   "execution_count": 23,
   "metadata": {},
   "outputs": [
    {
     "name": "stdout",
     "output_type": "stream",
     "text": [
      "Epoch 1/100\n",
      "5/5 [==============================] - 1s 54ms/step - loss: 14.6829 - accuracy: 0.0137 - val_loss: 13.7994 - val_accuracy: 0.0000e+00\n",
      "Epoch 2/100\n",
      "5/5 [==============================] - 0s 10ms/step - loss: 11.4324 - accuracy: 0.0274 - val_loss: 11.4588 - val_accuracy: 0.0000e+00\n",
      "Epoch 3/100\n",
      "5/5 [==============================] - 0s 9ms/step - loss: 9.1879 - accuracy: 0.0616 - val_loss: 8.9755 - val_accuracy: 0.0000e+00\n",
      "Epoch 4/100\n",
      "5/5 [==============================] - 0s 9ms/step - loss: 5.6834 - accuracy: 0.1301 - val_loss: 6.2278 - val_accuracy: 0.0000e+00\n",
      "Epoch 5/100\n",
      "5/5 [==============================] - 0s 9ms/step - loss: 4.1482 - accuracy: 0.3014 - val_loss: 2.9395 - val_accuracy: 0.0000e+00\n",
      "Epoch 6/100\n",
      "5/5 [==============================] - 0s 9ms/step - loss: 1.7601 - accuracy: 0.5342 - val_loss: 0.4786 - val_accuracy: 1.0000\n",
      "Epoch 7/100\n",
      "5/5 [==============================] - 0s 9ms/step - loss: 0.7009 - accuracy: 0.7603 - val_loss: 0.2362 - val_accuracy: 1.0000\n",
      "Epoch 8/100\n",
      "5/5 [==============================] - 0s 10ms/step - loss: 0.5240 - accuracy: 0.9110 - val_loss: 0.2274 - val_accuracy: 1.0000\n",
      "Epoch 9/100\n",
      "5/5 [==============================] - 0s 9ms/step - loss: 0.4189 - accuracy: 0.9521 - val_loss: 0.2246 - val_accuracy: 1.0000\n",
      "Epoch 10/100\n",
      "5/5 [==============================] - 0s 10ms/step - loss: 0.3392 - accuracy: 0.9863 - val_loss: 0.2221 - val_accuracy: 1.0000\n",
      "Epoch 11/100\n",
      "5/5 [==============================] - 0s 10ms/step - loss: 0.4097 - accuracy: 0.9795 - val_loss: 0.2197 - val_accuracy: 1.0000\n",
      "Epoch 12/100\n",
      "5/5 [==============================] - 0s 10ms/step - loss: 0.3972 - accuracy: 0.9863 - val_loss: 0.2173 - val_accuracy: 1.0000\n",
      "Epoch 13/100\n",
      "5/5 [==============================] - 0s 11ms/step - loss: 0.4703 - accuracy: 0.9726 - val_loss: 0.2148 - val_accuracy: 1.0000\n",
      "Epoch 14/100\n",
      "5/5 [==============================] - 0s 10ms/step - loss: 0.4268 - accuracy: 0.9863 - val_loss: 0.2124 - val_accuracy: 1.0000\n",
      "Epoch 15/100\n",
      "5/5 [==============================] - 0s 10ms/step - loss: 0.3764 - accuracy: 0.9726 - val_loss: 0.2100 - val_accuracy: 1.0000\n",
      "Epoch 16/100\n",
      "5/5 [==============================] - 0s 9ms/step - loss: 0.4076 - accuracy: 0.9795 - val_loss: 0.2076 - val_accuracy: 1.0000\n",
      "Epoch 17/100\n",
      "5/5 [==============================] - 0s 9ms/step - loss: 0.4527 - accuracy: 0.9726 - val_loss: 0.2053 - val_accuracy: 1.0000\n",
      "Epoch 18/100\n",
      "5/5 [==============================] - 0s 9ms/step - loss: 0.3824 - accuracy: 0.9795 - val_loss: 0.2031 - val_accuracy: 1.0000\n",
      "Epoch 19/100\n",
      "5/5 [==============================] - 0s 10ms/step - loss: 0.3584 - accuracy: 0.9863 - val_loss: 0.2008 - val_accuracy: 1.0000\n",
      "Epoch 20/100\n",
      "5/5 [==============================] - 0s 9ms/step - loss: 0.3663 - accuracy: 0.9795 - val_loss: 0.1985 - val_accuracy: 1.0000\n",
      "Epoch 21/100\n",
      "5/5 [==============================] - 0s 10ms/step - loss: 0.3574 - accuracy: 0.9795 - val_loss: 0.1963 - val_accuracy: 1.0000\n",
      "Epoch 22/100\n",
      "5/5 [==============================] - 0s 9ms/step - loss: 0.4278 - accuracy: 0.9726 - val_loss: 0.1940 - val_accuracy: 1.0000\n",
      "Epoch 23/100\n",
      "5/5 [==============================] - 0s 9ms/step - loss: 0.3989 - accuracy: 0.9726 - val_loss: 0.1919 - val_accuracy: 1.0000\n",
      "Epoch 24/100\n",
      "5/5 [==============================] - 0s 9ms/step - loss: 0.3964 - accuracy: 0.9726 - val_loss: 0.1898 - val_accuracy: 1.0000\n",
      "Epoch 25/100\n",
      "5/5 [==============================] - 0s 9ms/step - loss: 0.3031 - accuracy: 0.9795 - val_loss: 0.1877 - val_accuracy: 1.0000\n",
      "Epoch 26/100\n",
      "5/5 [==============================] - 0s 9ms/step - loss: 0.3422 - accuracy: 0.9795 - val_loss: 0.1857 - val_accuracy: 1.0000\n",
      "Epoch 27/100\n",
      "5/5 [==============================] - 0s 9ms/step - loss: 0.4453 - accuracy: 0.9863 - val_loss: 0.1839 - val_accuracy: 1.0000\n",
      "Epoch 28/100\n",
      "5/5 [==============================] - 0s 15ms/step - loss: 0.3965 - accuracy: 0.9726 - val_loss: 0.1820 - val_accuracy: 1.0000\n",
      "Epoch 29/100\n",
      "5/5 [==============================] - 0s 9ms/step - loss: 0.3051 - accuracy: 0.9795 - val_loss: 0.1801 - val_accuracy: 1.0000\n",
      "Epoch 30/100\n",
      "5/5 [==============================] - 0s 9ms/step - loss: 0.2962 - accuracy: 0.9863 - val_loss: 0.1782 - val_accuracy: 1.0000\n",
      "Epoch 31/100\n",
      "5/5 [==============================] - 0s 9ms/step - loss: 0.3316 - accuracy: 0.9863 - val_loss: 0.1765 - val_accuracy: 1.0000\n",
      "Epoch 32/100\n",
      "5/5 [==============================] - 0s 9ms/step - loss: 0.3142 - accuracy: 0.9863 - val_loss: 0.1749 - val_accuracy: 1.0000\n",
      "Epoch 33/100\n",
      "5/5 [==============================] - 0s 9ms/step - loss: 0.3114 - accuracy: 0.9795 - val_loss: 0.1733 - val_accuracy: 1.0000\n",
      "Epoch 34/100\n",
      "5/5 [==============================] - 0s 9ms/step - loss: 0.2958 - accuracy: 0.9795 - val_loss: 0.1716 - val_accuracy: 1.0000\n",
      "Epoch 35/100\n",
      "5/5 [==============================] - 0s 9ms/step - loss: 0.3221 - accuracy: 0.9589 - val_loss: 0.1699 - val_accuracy: 1.0000\n",
      "Epoch 36/100\n",
      "5/5 [==============================] - 0s 9ms/step - loss: 0.3351 - accuracy: 0.9795 - val_loss: 0.1684 - val_accuracy: 1.0000\n",
      "Epoch 37/100\n",
      "5/5 [==============================] - 0s 9ms/step - loss: 0.3040 - accuracy: 0.9863 - val_loss: 0.1669 - val_accuracy: 1.0000\n",
      "Epoch 38/100\n",
      "5/5 [==============================] - 0s 9ms/step - loss: 0.2630 - accuracy: 0.9795 - val_loss: 0.1654 - val_accuracy: 1.0000\n",
      "Epoch 39/100\n",
      "5/5 [==============================] - 0s 9ms/step - loss: 0.2738 - accuracy: 0.9863 - val_loss: 0.1639 - val_accuracy: 1.0000\n",
      "Epoch 40/100\n",
      "5/5 [==============================] - 0s 10ms/step - loss: 0.2883 - accuracy: 0.9795 - val_loss: 0.1624 - val_accuracy: 1.0000\n",
      "Epoch 41/100\n",
      "5/5 [==============================] - 0s 9ms/step - loss: 0.2277 - accuracy: 0.9863 - val_loss: 0.1611 - val_accuracy: 1.0000\n",
      "Epoch 42/100\n",
      "5/5 [==============================] - 0s 10ms/step - loss: 0.2952 - accuracy: 0.9863 - val_loss: 0.1598 - val_accuracy: 1.0000\n",
      "Epoch 43/100\n",
      "5/5 [==============================] - 0s 10ms/step - loss: 0.2939 - accuracy: 0.9795 - val_loss: 0.1584 - val_accuracy: 1.0000\n",
      "Epoch 44/100\n",
      "5/5 [==============================] - 0s 10ms/step - loss: 0.4451 - accuracy: 0.9863 - val_loss: 0.1573 - val_accuracy: 1.0000\n",
      "Epoch 45/100\n",
      "5/5 [==============================] - 0s 10ms/step - loss: 0.2686 - accuracy: 0.9863 - val_loss: 0.1563 - val_accuracy: 1.0000\n",
      "Epoch 46/100\n",
      "5/5 [==============================] - 0s 10ms/step - loss: 0.2398 - accuracy: 0.9795 - val_loss: 0.1552 - val_accuracy: 1.0000\n",
      "Epoch 47/100\n",
      "5/5 [==============================] - 0s 10ms/step - loss: 0.2899 - accuracy: 0.9863 - val_loss: 0.1541 - val_accuracy: 1.0000\n",
      "Epoch 48/100\n",
      "5/5 [==============================] - 0s 10ms/step - loss: 0.2254 - accuracy: 0.9932 - val_loss: 0.1529 - val_accuracy: 1.0000\n",
      "Epoch 49/100\n",
      "5/5 [==============================] - 0s 10ms/step - loss: 0.3012 - accuracy: 0.9795 - val_loss: 0.1523 - val_accuracy: 1.0000\n",
      "Epoch 50/100\n",
      "5/5 [==============================] - 0s 10ms/step - loss: 0.2671 - accuracy: 0.9795 - val_loss: 0.1516 - val_accuracy: 1.0000\n",
      "Epoch 51/100\n",
      "5/5 [==============================] - 0s 9ms/step - loss: 0.3118 - accuracy: 0.9863 - val_loss: 0.1508 - val_accuracy: 1.0000\n",
      "Epoch 52/100\n",
      "5/5 [==============================] - 0s 9ms/step - loss: 0.3607 - accuracy: 0.9863 - val_loss: 0.1496 - val_accuracy: 1.0000\n",
      "Epoch 53/100\n",
      "5/5 [==============================] - 0s 9ms/step - loss: 0.3271 - accuracy: 0.9863 - val_loss: 0.1487 - val_accuracy: 1.0000\n",
      "Epoch 54/100\n",
      "5/5 [==============================] - 0s 9ms/step - loss: 0.2227 - accuracy: 0.9863 - val_loss: 0.1486 - val_accuracy: 1.0000\n",
      "Epoch 55/100\n",
      "5/5 [==============================] - 0s 14ms/step - loss: 0.2787 - accuracy: 0.9795 - val_loss: 0.1467 - val_accuracy: 1.0000\n",
      "Epoch 56/100\n",
      "5/5 [==============================] - 0s 12ms/step - loss: 0.2462 - accuracy: 0.9863 - val_loss: 0.1464 - val_accuracy: 1.0000\n",
      "Epoch 57/100\n",
      "5/5 [==============================] - 0s 10ms/step - loss: 0.2297 - accuracy: 0.9726 - val_loss: 0.1449 - val_accuracy: 1.0000\n",
      "Epoch 58/100\n",
      "5/5 [==============================] - 0s 10ms/step - loss: 0.3405 - accuracy: 0.9795 - val_loss: 0.1442 - val_accuracy: 1.0000\n",
      "Epoch 59/100\n",
      "5/5 [==============================] - 0s 10ms/step - loss: 0.2965 - accuracy: 0.9863 - val_loss: 0.1440 - val_accuracy: 1.0000\n",
      "Epoch 60/100\n",
      "5/5 [==============================] - 0s 10ms/step - loss: 0.2326 - accuracy: 0.9795 - val_loss: 0.1431 - val_accuracy: 1.0000\n",
      "Epoch 61/100\n",
      "5/5 [==============================] - 0s 10ms/step - loss: 0.3038 - accuracy: 0.9795 - val_loss: 0.1415 - val_accuracy: 1.0000\n",
      "Epoch 62/100\n",
      "5/5 [==============================] - 0s 10ms/step - loss: 0.2731 - accuracy: 0.9795 - val_loss: 0.1406 - val_accuracy: 1.0000\n",
      "Epoch 63/100\n",
      "5/5 [==============================] - 0s 10ms/step - loss: 0.2475 - accuracy: 0.9863 - val_loss: 0.1401 - val_accuracy: 1.0000\n",
      "Epoch 64/100\n",
      "5/5 [==============================] - 0s 10ms/step - loss: 0.3239 - accuracy: 0.9795 - val_loss: 0.1395 - val_accuracy: 1.0000\n",
      "Epoch 65/100\n",
      "5/5 [==============================] - 0s 11ms/step - loss: 0.3010 - accuracy: 0.9795 - val_loss: 0.1384 - val_accuracy: 1.0000\n",
      "Epoch 66/100\n",
      "5/5 [==============================] - 0s 10ms/step - loss: 0.2710 - accuracy: 0.9863 - val_loss: 0.1379 - val_accuracy: 1.0000\n",
      "Epoch 67/100\n",
      "5/5 [==============================] - 0s 10ms/step - loss: 0.2798 - accuracy: 0.9863 - val_loss: 0.1378 - val_accuracy: 1.0000\n",
      "Epoch 68/100\n",
      "5/5 [==============================] - 0s 11ms/step - loss: 0.2466 - accuracy: 0.9863 - val_loss: 0.1381 - val_accuracy: 1.0000\n",
      "Epoch 69/100\n",
      "5/5 [==============================] - 0s 10ms/step - loss: 0.2882 - accuracy: 0.9795 - val_loss: 0.1379 - val_accuracy: 1.0000\n",
      "Epoch 70/100\n",
      "5/5 [==============================] - 0s 10ms/step - loss: 0.2945 - accuracy: 0.9726 - val_loss: 0.1363 - val_accuracy: 1.0000\n",
      "Epoch 71/100\n",
      "5/5 [==============================] - 0s 10ms/step - loss: 0.2712 - accuracy: 0.9726 - val_loss: 0.1351 - val_accuracy: 1.0000\n",
      "Epoch 72/100\n",
      "5/5 [==============================] - 0s 10ms/step - loss: 0.2538 - accuracy: 0.9795 - val_loss: 0.1342 - val_accuracy: 1.0000\n",
      "Epoch 73/100\n",
      "5/5 [==============================] - 0s 10ms/step - loss: 0.1920 - accuracy: 0.9863 - val_loss: 0.1337 - val_accuracy: 1.0000\n",
      "Epoch 74/100\n",
      "5/5 [==============================] - 0s 10ms/step - loss: 0.1815 - accuracy: 0.9863 - val_loss: 0.1329 - val_accuracy: 1.0000\n",
      "Epoch 75/100\n",
      "5/5 [==============================] - 0s 19ms/step - loss: 0.2555 - accuracy: 0.9863 - val_loss: 0.1327 - val_accuracy: 1.0000\n",
      "Epoch 76/100\n",
      "5/5 [==============================] - 0s 11ms/step - loss: 0.1760 - accuracy: 0.9863 - val_loss: 0.1324 - val_accuracy: 1.0000\n",
      "Epoch 77/100\n",
      "5/5 [==============================] - 0s 10ms/step - loss: 0.3351 - accuracy: 0.9795 - val_loss: 0.1324 - val_accuracy: 1.0000\n",
      "Epoch 78/100\n",
      "5/5 [==============================] - 0s 10ms/step - loss: 0.2856 - accuracy: 0.9863 - val_loss: 0.1323 - val_accuracy: 1.0000\n",
      "Epoch 79/100\n",
      "5/5 [==============================] - 0s 10ms/step - loss: 0.2739 - accuracy: 0.9726 - val_loss: 0.1320 - val_accuracy: 1.0000\n",
      "Epoch 80/100\n",
      "5/5 [==============================] - 0s 10ms/step - loss: 0.2294 - accuracy: 0.9863 - val_loss: 0.1317 - val_accuracy: 1.0000\n",
      "Epoch 81/100\n",
      "5/5 [==============================] - 0s 10ms/step - loss: 0.2863 - accuracy: 0.9795 - val_loss: 0.1301 - val_accuracy: 1.0000\n",
      "Epoch 82/100\n",
      "5/5 [==============================] - 0s 10ms/step - loss: 0.1981 - accuracy: 0.9795 - val_loss: 0.1287 - val_accuracy: 1.0000\n",
      "Epoch 83/100\n",
      "5/5 [==============================] - 0s 10ms/step - loss: 0.1755 - accuracy: 0.9795 - val_loss: 0.1276 - val_accuracy: 1.0000\n",
      "Epoch 84/100\n",
      "5/5 [==============================] - 0s 10ms/step - loss: 0.2303 - accuracy: 0.9863 - val_loss: 0.1271 - val_accuracy: 1.0000\n",
      "Epoch 85/100\n",
      "5/5 [==============================] - 0s 10ms/step - loss: 0.1787 - accuracy: 0.9863 - val_loss: 0.1268 - val_accuracy: 1.0000\n",
      "Epoch 86/100\n",
      "5/5 [==============================] - 0s 10ms/step - loss: 0.2226 - accuracy: 0.9863 - val_loss: 0.1272 - val_accuracy: 1.0000\n",
      "Epoch 87/100\n",
      "5/5 [==============================] - 0s 11ms/step - loss: 0.2579 - accuracy: 0.9795 - val_loss: 0.1274 - val_accuracy: 1.0000\n",
      "Epoch 88/100\n",
      "5/5 [==============================] - 0s 10ms/step - loss: 0.2268 - accuracy: 0.9795 - val_loss: 0.1268 - val_accuracy: 1.0000\n",
      "Epoch 89/100\n",
      "5/5 [==============================] - 0s 11ms/step - loss: 0.2257 - accuracy: 0.9863 - val_loss: 0.1264 - val_accuracy: 1.0000\n",
      "Epoch 90/100\n",
      "5/5 [==============================] - 0s 10ms/step - loss: 0.2437 - accuracy: 0.9863 - val_loss: 0.1261 - val_accuracy: 1.0000\n",
      "Epoch 91/100\n",
      "5/5 [==============================] - 0s 11ms/step - loss: 0.2387 - accuracy: 0.9863 - val_loss: 0.1257 - val_accuracy: 1.0000\n",
      "Epoch 92/100\n",
      "5/5 [==============================] - 0s 11ms/step - loss: 0.2777 - accuracy: 0.9863 - val_loss: 0.1254 - val_accuracy: 1.0000\n",
      "Epoch 93/100\n",
      "5/5 [==============================] - 0s 12ms/step - loss: 0.2309 - accuracy: 0.9795 - val_loss: 0.1250 - val_accuracy: 1.0000\n",
      "Epoch 94/100\n",
      "5/5 [==============================] - 0s 11ms/step - loss: 0.2304 - accuracy: 0.9863 - val_loss: 0.1256 - val_accuracy: 1.0000\n",
      "Epoch 95/100\n",
      "5/5 [==============================] - 0s 11ms/step - loss: 0.2075 - accuracy: 0.9863 - val_loss: 0.1265 - val_accuracy: 1.0000\n",
      "Epoch 96/100\n",
      "5/5 [==============================] - 0s 10ms/step - loss: 0.1908 - accuracy: 0.9795 - val_loss: 0.1266 - val_accuracy: 1.0000\n",
      "Epoch 97/100\n",
      "5/5 [==============================] - 0s 11ms/step - loss: 0.1954 - accuracy: 0.9658 - val_loss: 0.1247 - val_accuracy: 1.0000\n",
      "Epoch 98/100\n",
      "5/5 [==============================] - 0s 21ms/step - loss: 0.2441 - accuracy: 0.9863 - val_loss: 0.1243 - val_accuracy: 1.0000\n",
      "Epoch 99/100\n",
      "5/5 [==============================] - 0s 10ms/step - loss: 0.2113 - accuracy: 0.9726 - val_loss: 0.1236 - val_accuracy: 1.0000\n",
      "Epoch 100/100\n",
      "5/5 [==============================] - 0s 10ms/step - loss: 0.1908 - accuracy: 0.9863 - val_loss: 0.1238 - val_accuracy: 1.0000\n",
      "Test loss: 0.4081769287586212\n",
      "Test accuracy: 0.9672130942344666\n"
     ]
    }
   ],
   "source": [
    "model.compile(optimizer=optimizer, loss='binary_crossentropy', metrics=['accuracy'])\n",
    "history = model.fit(x_train, y_train, epochs=100, batch_size=32, validation_split=0.2, callbacks=[early_stopping])\n",
    "test_loss, test_acc = model.evaluate(x_test, y_test, verbose=0) # Verbose = 0 for minimal output\n",
    "print('Test loss:', test_loss)\n",
    "print('Test accuracy:', test_acc)"
   ]
  },
  {
   "attachments": {},
   "cell_type": "markdown",
   "metadata": {},
   "source": [
    "### Visualizing results"
   ]
  },
  {
   "cell_type": "code",
   "execution_count": 25,
   "metadata": {},
   "outputs": [
    {
     "data": {
      "image/png": "[encoded data removed]",
      "text/plain": [
       "<Figure size 432x288 with 1 Axes>"
      ]
     },
     "metadata": {
      "needs_background": "light"
     },
     "output_type": "display_data"
    }
   ],
   "source": [
    "plt.plot(history.history['accuracy'])\n",
    "plt.plot(history.history['val_accuracy'])\n",
    "plt.title('Model accuracy')\n",
    "plt.ylabel('Accuracy')\n",
    "plt.xlabel('Epoch')\n",
    "plt.legend(['Train', 'Validation'], loc='upper right')\n",
    "plt.show()"
   ]
  },
  {
   "cell_type": "code",
   "execution_count": 26,
   "metadata": {},
   "outputs": [
    {
     "data": {
      "image/png": "[encoded data removed]",
      "text/plain": [
       "<Figure size 432x288 with 1 Axes>"
      ]
     },
     "metadata": {
      "needs_background": "light"
     },
     "output_type": "display_data"
    }
   ],
   "source": [
    "plt.plot(history.history['loss'])\n",
    "plt.plot(history.history['val_loss'])\n",
    "plt.title('Model loss')\n",
    "plt.ylabel('Loss')\n",
    "plt.xlabel('Epoch')\n",
    "plt.legend(['Train', 'Validation'], loc='upper right')\n",
    "plt.show()"
   ]
  }
 ],
 "metadata": {
  "kernelspec": {
   "display_name": "Python 3 (ipykernel)",
   "language": "python",
   "name": "python3"
  },
  "language_info": {
   "codemirror_mode": {
    "name": "ipython",
    "version": 3
   },
   "file_extension": ".py",
   "mimetype": "text/x-python",
   "name": "python",
   "nbconvert_exporter": "python",
   "pygments_lexer": "ipython3",
   "version": "3.9.7"
  },
  "vscode": {
   "interpreter": {
    "hash": "12d734bc14f29bded633d06b5a24f7926227f2966d096d90bc127af99374c3bd"
   }
  }
 },
 "nbformat": 4,
 "nbformat_minor": 4
}
