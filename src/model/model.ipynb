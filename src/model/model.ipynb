{
 "cells": [
  {
   "attachments": {},
   "cell_type": "markdown",
   "metadata": {},
   "source": [
    "> **NOTE:** This code is licensed under the GPL v3 license. Read more about it [here](/LICENSE)."
   ]
  },
  {
   "attachments": {},
   "cell_type": "markdown",
   "metadata": {},
   "source": [
    "# AFFP Model"
   ]
  },
  {
   "attachments": {},
   "cell_type": "markdown",
   "metadata": {},
   "source": [
    "## Import Statements"
   ]
  },
  {
   "cell_type": "code",
   "execution_count": null,
   "metadata": {},
   "outputs": [],
   "source": [
    "import os\n",
    "\n",
    "os.system(f\"pip install -r {os.path.abspath(os.getcwd())}/requirements.txt\")"
   ]
  },
  {
   "cell_type": "code",
   "execution_count": 2,
   "metadata": {},
   "outputs": [
    {
     "name": "stderr",
     "output_type": "stream",
     "text": [
      "2023-01-27 18:24:10.119751: I tensorflow/core/platform/cpu_feature_guard.cc:193] This TensorFlow binary is optimized with oneAPI Deep Neural Network Library (oneDNN) to use the following CPU instructions in performance-critical operations:  AVX2 FMA\n",
      "To enable them in other operations, rebuild TensorFlow with the appropriate compiler flags.\n"
     ]
    }
   ],
   "source": [
    "import tensorflow as tf\n",
    "import numpy as np\n",
    "from keras.models import Model\n",
    "from keras.layers import Input, Dense, Dropout\n",
    "from keras.callbacks import EarlyStopping\n",
    "from sklearn.model_selection import train_test_split\n",
    "import matplotlib\n",
    "import matplotlib.pyplot as plt\n",
    "\n",
    "from datasets import dataset"
   ]
  },
  {
   "attachments": {},
   "cell_type": "markdown",
   "metadata": {},
   "source": [
    "## Loading in training data"
   ]
  },
  {
   "cell_type": "code",
   "execution_count": 3,
   "metadata": {},
   "outputs": [],
   "source": [
    "temp_train = np.asarray(dataset['Temperature'])\n",
    "rh_train = np.asarray(dataset['RH'])\n",
    "wind_train = np.asarray(dataset['Ws'])\n",
    "rain_train = np.asarray(dataset['Rain'])"
   ]
  },
  {
   "cell_type": "markdown",
   "metadata": {},
   "source": [
    "### Obtaining the x_train and y_train data ###"
   ]
  },
  {
   "cell_type": "code",
   "execution_count": 4,
   "metadata": {},
   "outputs": [],
   "source": [
    "xData = np.column_stack((temp_train, rh_train, wind_train, rain_train))\n",
    "yData = np.asarray(dataset['Classes'].apply(lambda x: 1 if x == 'fire' else 0))\n",
    "\n",
    "x_train, x_test, y_train, y_test = train_test_split(xData, yData, test_size=0.25)"
   ]
  },
  {
   "attachments": {},
   "cell_type": "markdown",
   "metadata": {},
   "source": [
    "## Defining the Model"
   ]
  },
  {
   "cell_type": "markdown",
   "metadata": {},
   "source": [
    "### Defining model layers and creating the model ###"
   ]
  },
  {
   "cell_type": "code",
   "execution_count": 5,
   "metadata": {},
   "outputs": [
    {
     "name": "stderr",
     "output_type": "stream",
     "text": [
      "2023-01-27 18:24:35.002912: I tensorflow/core/platform/cpu_feature_guard.cc:193] This TensorFlow binary is optimized with oneAPI Deep Neural Network Library (oneDNN) to use the following CPU instructions in performance-critical operations:  AVX2 FMA\n",
      "To enable them in other operations, rebuild TensorFlow with the appropriate compiler flags.\n"
     ]
    }
   ],
   "source": [
    "input_shape = x_train.shape[1:]\n",
    "inputs = Input(shape=input_shape)\n",
    "x = Dense(32, activation='relu', kernel_regularizer='l1')(inputs)\n",
    "x = Dropout(0.2)(x)\n",
    "x = Dense(16, activation='relu')(x)\n",
    "outputs = Dense(1, activation='sigmoid')(x)\n",
    "model = Model(inputs=inputs, outputs=outputs)"
   ]
  },
  {
   "cell_type": "markdown",
   "metadata": {},
   "source": [
    "### Define the optimizer"
   ]
  },
  {
   "cell_type": "code",
   "execution_count": 6,
   "metadata": {},
   "outputs": [],
   "source": [
    "optimizer = tf.keras.optimizers.Adam(\n",
    "\tlearning_rate=0.001,\n",
    "\tbeta_1=0.9,\n",
    "\tbeta_2=0.999,\n",
    "\tepsilon=1e-07\n",
    ")"
   ]
  },
  {
   "attachments": {},
   "cell_type": "markdown",
   "metadata": {},
   "source": [
    "### Define the early stopping criteria"
   ]
  },
  {
   "cell_type": "code",
   "execution_count": 7,
   "metadata": {},
   "outputs": [],
   "source": [
    "early_stopping = EarlyStopping(monitor='val_loss', patience=5)"
   ]
  },
  {
   "cell_type": "markdown",
   "metadata": {},
   "source": [
    "### Compiling, training, and evaluating the model"
   ]
  },
  {
   "cell_type": "code",
   "execution_count": 8,
   "metadata": {},
   "outputs": [
    {
     "name": "stdout",
     "output_type": "stream",
     "text": [
      "Epoch 1/150\n",
      "5/5 [==============================] - 1s 60ms/step - loss: 0.5710 - accuracy: 0.9315 - val_loss: 0.4391 - val_accuracy: 0.9730\n",
      "Epoch 2/150\n",
      "5/5 [==============================] - 0s 9ms/step - loss: 0.4970 - accuracy: 0.9658 - val_loss: 0.4414 - val_accuracy: 0.9730\n",
      "Epoch 3/150\n",
      "5/5 [==============================] - 0s 9ms/step - loss: 0.4540 - accuracy: 0.9658 - val_loss: 0.4453 - val_accuracy: 0.9730\n",
      "Epoch 4/150\n",
      "5/5 [==============================] - 0s 9ms/step - loss: 0.4804 - accuracy: 0.9384 - val_loss: 0.4395 - val_accuracy: 0.9730\n",
      "Epoch 5/150\n",
      "5/5 [==============================] - 0s 10ms/step - loss: 0.4196 - accuracy: 0.9658 - val_loss: 0.4309 - val_accuracy: 0.9730\n",
      "Epoch 6/150\n",
      "5/5 [==============================] - 0s 9ms/step - loss: 0.4119 - accuracy: 0.9726 - val_loss: 0.4278 - val_accuracy: 0.9730\n",
      "Epoch 7/150\n",
      "5/5 [==============================] - 0s 9ms/step - loss: 0.3468 - accuracy: 0.9726 - val_loss: 0.4219 - val_accuracy: 0.9730\n",
      "Epoch 8/150\n",
      "5/5 [==============================] - 0s 9ms/step - loss: 0.3586 - accuracy: 0.9726 - val_loss: 0.4155 - val_accuracy: 0.9730\n",
      "Epoch 9/150\n",
      "5/5 [==============================] - 0s 9ms/step - loss: 0.3771 - accuracy: 0.9726 - val_loss: 0.4055 - val_accuracy: 0.9730\n",
      "Epoch 10/150\n",
      "5/5 [==============================] - 0s 9ms/step - loss: 0.4367 - accuracy: 0.9658 - val_loss: 0.3963 - val_accuracy: 0.9730\n",
      "Epoch 11/150\n",
      "5/5 [==============================] - 0s 9ms/step - loss: 0.3553 - accuracy: 0.9658 - val_loss: 0.3870 - val_accuracy: 0.9730\n",
      "Epoch 12/150\n",
      "5/5 [==============================] - 0s 9ms/step - loss: 0.3862 - accuracy: 0.9795 - val_loss: 0.3777 - val_accuracy: 0.9730\n",
      "Epoch 13/150\n",
      "5/5 [==============================] - 0s 9ms/step - loss: 0.3483 - accuracy: 0.9658 - val_loss: 0.3671 - val_accuracy: 0.9730\n",
      "Epoch 14/150\n",
      "5/5 [==============================] - 0s 9ms/step - loss: 0.3928 - accuracy: 0.9658 - val_loss: 0.3534 - val_accuracy: 0.9730\n",
      "Epoch 15/150\n",
      "5/5 [==============================] - 0s 9ms/step - loss: 0.2924 - accuracy: 0.9658 - val_loss: 0.3456 - val_accuracy: 0.9730\n",
      "Epoch 16/150\n",
      "5/5 [==============================] - 0s 9ms/step - loss: 0.4085 - accuracy: 0.9521 - val_loss: 0.3424 - val_accuracy: 0.9730\n",
      "Epoch 17/150\n",
      "5/5 [==============================] - 0s 9ms/step - loss: 0.3612 - accuracy: 0.9658 - val_loss: 0.3346 - val_accuracy: 0.9730\n",
      "Epoch 18/150\n",
      "5/5 [==============================] - 0s 9ms/step - loss: 0.3392 - accuracy: 0.9726 - val_loss: 0.3273 - val_accuracy: 0.9730\n",
      "Epoch 19/150\n",
      "5/5 [==============================] - 0s 9ms/step - loss: 0.2958 - accuracy: 0.9589 - val_loss: 0.3236 - val_accuracy: 0.9730\n",
      "Epoch 20/150\n",
      "5/5 [==============================] - 0s 9ms/step - loss: 0.3303 - accuracy: 0.9795 - val_loss: 0.3175 - val_accuracy: 0.9730\n",
      "Epoch 21/150\n",
      "5/5 [==============================] - 0s 9ms/step - loss: 0.2996 - accuracy: 0.9726 - val_loss: 0.3110 - val_accuracy: 0.9730\n",
      "Epoch 22/150\n",
      "5/5 [==============================] - 0s 9ms/step - loss: 0.3195 - accuracy: 0.9795 - val_loss: 0.3042 - val_accuracy: 0.9730\n",
      "Epoch 23/150\n",
      "5/5 [==============================] - 0s 9ms/step - loss: 0.2960 - accuracy: 0.9726 - val_loss: 0.2980 - val_accuracy: 0.9730\n",
      "Epoch 24/150\n",
      "5/5 [==============================] - 0s 18ms/step - loss: 0.2770 - accuracy: 0.9726 - val_loss: 0.2919 - val_accuracy: 0.9730\n",
      "Epoch 25/150\n",
      "5/5 [==============================] - 0s 9ms/step - loss: 0.2849 - accuracy: 0.9795 - val_loss: 0.2866 - val_accuracy: 0.9730\n",
      "Epoch 26/150\n",
      "5/5 [==============================] - 0s 9ms/step - loss: 0.2581 - accuracy: 0.9726 - val_loss: 0.2840 - val_accuracy: 0.9730\n",
      "Epoch 27/150\n",
      "5/5 [==============================] - 0s 9ms/step - loss: 0.2869 - accuracy: 0.9726 - val_loss: 0.2802 - val_accuracy: 0.9730\n",
      "Epoch 28/150\n",
      "5/5 [==============================] - 0s 9ms/step - loss: 0.2685 - accuracy: 0.9795 - val_loss: 0.2806 - val_accuracy: 0.9730\n",
      "Epoch 29/150\n",
      "5/5 [==============================] - 0s 9ms/step - loss: 0.2614 - accuracy: 0.9795 - val_loss: 0.2797 - val_accuracy: 0.9730\n",
      "Epoch 30/150\n",
      "5/5 [==============================] - 0s 9ms/step - loss: 0.2673 - accuracy: 0.9726 - val_loss: 0.2782 - val_accuracy: 0.9730\n",
      "Epoch 31/150\n",
      "5/5 [==============================] - 0s 9ms/step - loss: 0.2358 - accuracy: 0.9795 - val_loss: 0.2791 - val_accuracy: 0.9730\n",
      "Epoch 32/150\n",
      "5/5 [==============================] - 0s 9ms/step - loss: 0.2742 - accuracy: 0.9795 - val_loss: 0.2739 - val_accuracy: 0.9730\n",
      "Epoch 33/150\n",
      "5/5 [==============================] - 0s 9ms/step - loss: 0.2524 - accuracy: 0.9795 - val_loss: 0.2666 - val_accuracy: 0.9730\n",
      "Epoch 34/150\n",
      "5/5 [==============================] - 0s 9ms/step - loss: 0.2387 - accuracy: 0.9726 - val_loss: 0.2618 - val_accuracy: 0.9730\n",
      "Epoch 35/150\n",
      "5/5 [==============================] - 0s 9ms/step - loss: 0.2321 - accuracy: 0.9795 - val_loss: 0.2600 - val_accuracy: 0.9730\n",
      "Epoch 36/150\n",
      "5/5 [==============================] - 0s 9ms/step - loss: 0.2470 - accuracy: 0.9795 - val_loss: 0.2603 - val_accuracy: 0.9730\n",
      "Epoch 37/150\n",
      "5/5 [==============================] - 0s 9ms/step - loss: 0.2189 - accuracy: 0.9795 - val_loss: 0.2595 - val_accuracy: 0.9730\n",
      "Epoch 38/150\n",
      "5/5 [==============================] - 0s 9ms/step - loss: 0.2232 - accuracy: 0.9726 - val_loss: 0.2627 - val_accuracy: 0.9730\n",
      "Epoch 39/150\n",
      "5/5 [==============================] - 0s 9ms/step - loss: 0.2309 - accuracy: 0.9795 - val_loss: 0.2619 - val_accuracy: 0.9730\n",
      "Epoch 40/150\n",
      "5/5 [==============================] - 0s 9ms/step - loss: 0.2276 - accuracy: 0.9795 - val_loss: 0.2641 - val_accuracy: 0.9730\n",
      "Epoch 41/150\n",
      "5/5 [==============================] - 0s 9ms/step - loss: 0.2278 - accuracy: 0.9795 - val_loss: 0.2671 - val_accuracy: 0.9730\n",
      "Epoch 42/150\n",
      "5/5 [==============================] - 0s 9ms/step - loss: 0.2255 - accuracy: 0.9726 - val_loss: 0.2641 - val_accuracy: 0.9730\n",
      "Test loss: 0.1337270885705948\n",
      "Test accuracy: 1.0\n"
     ]
    }
   ],
   "source": [
    "model.compile(optimizer=optimizer, loss='binary_crossentropy', metrics=['accuracy'])\n",
    "history = model.fit(x_train, y_train, epochs=150, batch_size=32, validation_split=0.2, callbacks=[early_stopping])\n",
    "test_loss, test_acc = model.evaluate(x_test, y_test, verbose=0) # Verbose = 0 for minimal output\n",
    "print('Test loss:', test_loss)\n",
    "print('Test accuracy:', test_acc)"
   ]
  },
  {
   "attachments": {},
   "cell_type": "markdown",
   "metadata": {},
   "source": [
    "## View model summary"
   ]
  },
  {
   "cell_type": "code",
   "execution_count": 9,
   "metadata": {},
   "outputs": [
    {
     "name": "stdout",
     "output_type": "stream",
     "text": [
      "Model: \"model\"\n",
      "_________________________________________________________________\n",
      " Layer (type)                Output Shape              Param #   \n",
      "=================================================================\n",
      " input_1 (InputLayer)        [(None, 4)]               0         \n",
      "                                                                 \n",
      " dense (Dense)               (None, 32)                160       \n",
      "                                                                 \n",
      " dropout (Dropout)           (None, 32)                0         \n",
      "                                                                 \n",
      " dense_1 (Dense)             (None, 16)                528       \n",
      "                                                                 \n",
      " dense_2 (Dense)             (None, 1)                 17        \n",
      "                                                                 \n",
      "=================================================================\n",
      "Total params: 705\n",
      "Trainable params: 705\n",
      "Non-trainable params: 0\n",
      "_________________________________________________________________\n"
     ]
    }
   ],
   "source": [
    "model.summary()"
   ]
  },
  {
   "attachments": {},
   "cell_type": "markdown",
   "metadata": {},
   "source": [
    "### Visualizing results"
   ]
  },
  {
   "cell_type": "code",
   "execution_count": 109,
   "metadata": {},
   "outputs": [
    {
     "data": {
      "image/png": "[encoded data removed]",
      "text/plain": [
       "<Figure size 432x288 with 1 Axes>"
      ]
     },
     "metadata": {
      "needs_background": "light"
     },
     "output_type": "display_data"
    }
   ],
   "source": [
    "plt.plot(history.history['accuracy'])\n",
    "plt.plot(history.history['val_accuracy'])\n",
    "plt.title('Model accuracy')\n",
    "plt.ylabel('Accuracy')\n",
    "plt.xlabel('Epoch')\n",
    "plt.legend(['Train', 'Validation'], loc='upper right')\n",
    "plt.show()"
   ]
  },
  {
   "cell_type": "code",
   "execution_count": 110,
   "metadata": {},
   "outputs": [
    {
     "data": {
      "image/png": "[encoded data removed]",
      "text/plain": [
       "<Figure size 432x288 with 1 Axes>"
      ]
     },
     "metadata": {
      "needs_background": "light"
     },
     "output_type": "display_data"
    }
   ],
   "source": [
    "plt.plot(history.history['loss'])\n",
    "plt.plot(history.history['val_loss'])\n",
    "plt.title('Model loss')\n",
    "plt.ylabel('Loss')\n",
    "plt.xlabel('Epoch')\n",
    "plt.legend(['Train', 'Validation'], loc='upper right')\n",
    "plt.show()"
   ]
  }
 ],
 "metadata": {
  "kernelspec": {
   "display_name": "Python 3",
   "language": "python",
   "name": "python3"
  },
  "language_info": {
   "codemirror_mode": {
    "name": "ipython",
    "version": 3
   },
   "file_extension": ".py",
   "mimetype": "text/x-python",
   "name": "python",
   "nbconvert_exporter": "python",
   "pygments_lexer": "ipython3",
   "version": "3.10.3"
  },
  "vscode": {
   "interpreter": {
    "hash": "aee8b7b246df8f9039afb4144a1f6fd8d2ca17a180786b69acc140d282b71a49"
   }
  }
 },
 "nbformat": 4,
 "nbformat_minor": 4
}
